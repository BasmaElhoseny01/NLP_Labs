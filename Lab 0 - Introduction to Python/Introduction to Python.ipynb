{
  "cells": [
    {
      "cell_type": "markdown",
      "source": [
        "# Basic Data Types and Operators"
      ],
      "metadata": {
        "nteract": {
          "transient": {
            "deleting": false
          }
        }
      },
      "id": "d91ff6b3"
    },
    {
      "cell_type": "markdown",
      "source": [
        "### Comments, Variables, and `print()`"
      ],
      "metadata": {},
      "id": "6fdacdac"
    },
    {
      "cell_type": "code",
      "source": [
        "# This is a comment as it starts with #\n",
        "\n",
        "'''\n",
        "This is a \n",
        "multiple-line \n",
        "comment\n",
        "'''\n",
        "\n",
        "\"\"\"\n",
        "This is another \n",
        "multiple-line \n",
        "comment\n",
        "\"\"\"\n",
        "\n",
        "# Python is a strongly-typed language, so the type matters when performing operations.\n",
        "# On the other hand, Python is a dynamically-typed language, so the variable type\n",
        "# is determined based on the data it holds in the runtime\n",
        "\n",
        "# python has a function called \"print()\" that prints variables based on their types\n",
        "\n",
        "# Integer variable\n",
        "x = 3\n",
        "print(x)\n",
        "\n",
        "# Float variable\n",
        "y = 3.5\n",
        "print(y)\n",
        "\n",
        "# print() can print multiple objects, and it takes a parameter called \"sep\" that is by default a space [Separator between the printed values]\n",
        "print(x, y)\n",
        "\n",
        "# in the next line, we set the \"sep\" parameter as a new line \"\\n\"\n",
        "print(x, y, sep=\"\\n\")\n"
      ],
      "outputs": [
        {
          "output_type": "stream",
          "name": "stdout",
          "text": [
            "3\n",
            "3.5\n",
            "3 3.5\n",
            "3\n",
            "3.5\n"
          ]
        }
      ],
      "execution_count": 2,
      "metadata": {},
      "id": "b6b01c4f"
    },
    {
      "cell_type": "markdown",
      "source": [
        "### Function `type()`\n",
        "you can use `type()` function to determine the type of the variable"
      ],
      "metadata": {},
      "id": "c3bea1ce"
    },
    {
      "cell_type": "code",
      "source": [
        "print(type(x), type(y))"
      ],
      "outputs": [
        {
          "output_type": "stream",
          "name": "stdout",
          "text": [
            "<class 'int'> <class 'float'>\n"
          ]
        }
      ],
      "execution_count": 3,
      "metadata": {},
      "id": "86034e9e"
    },
    {
      "cell_type": "markdown",
      "source": [
        "### Strings"
      ],
      "metadata": {},
      "id": "e7e9236f"
    },
    {
      "cell_type": "code",
      "source": [
        "# strings - both single or double quotes can be used to define strings\n",
        "z = \"String with double quotes\"\n",
        "w = 'String with single quotes'\n",
        "a = \"String with 'single quotes' in it\"\n",
        "b = 'String with \"double quotes\" in it'\n",
        "print(z, w, a, b, sep='\\n')\n",
        "print (type(z))"
      ],
      "outputs": [
        {
          "output_type": "stream",
          "name": "stdout",
          "text": [
            "String with double quotes\n",
            "String with single quotes\n",
            "String with 'single quotes' in it\n",
            "String with \"double quotes\" in it\n",
            "<class 'str'>\n"
          ]
        }
      ],
      "execution_count": 6,
      "metadata": {},
      "id": "1f75b4cc"
    },
    {
      "cell_type": "markdown",
      "source": [
        "### Casting"
      ],
      "metadata": {},
      "id": "7bc2e3a2"
    },
    {
      "cell_type": "code",
      "source": [
        "x = str(3)\n",
        "y = int(\"3\")\n",
        "z = float(3)\n",
        "print(x, y, z, sep='\\n')"
      ],
      "outputs": [
        {
          "output_type": "stream",
          "name": "stdout",
          "text": [
            "3\n",
            "3\n",
            "3.0\n"
          ]
        }
      ],
      "execution_count": 7,
      "metadata": {},
      "id": "770b8689"
    },
    {
      "cell_type": "markdown",
      "source": [
        "### Boolean Variables"
      ],
      "metadata": {},
      "id": "1bf515be"
    },
    {
      "cell_type": "code",
      "source": [
        "a = True\n",
        "b = False\n",
        "print(a, b, int(a), int(b))\n",
        "print(type(a))"
      ],
      "outputs": [
        {
          "output_type": "stream",
          "name": "stdout",
          "text": [
            "True False 1 0\n",
            "<class 'bool'>\n"
          ]
        }
      ],
      "execution_count": 8,
      "metadata": {},
      "id": "b662f242"
    },
    {
      "cell_type": "markdown",
      "source": [
        "### Lists"
      ],
      "metadata": {},
      "id": "fc254559"
    },
    {
      "cell_type": "code",
      "source": [
        "# a list can contain items of different types\n",
        "l = [1, \"NLP\", 2.3]\n",
        "print('This is the original list:                               ', l)\n",
        "\n",
        "# add item to list\n",
        "l.append(\"4\")\n",
        "print('This is the list after adding \"4\" to it:                 ', l)\n",
        "\n",
        "# extend list with another list\n",
        "l.extend([5, 6])\n",
        "print('This is the list after extending it with [5, 6]:         ', l)\n",
        "\n",
        "# insert item to list at a specific index\n",
        "l.insert(2, 0)\n",
        "print('This is the list after inserting \"0\" at index \"2\":       ', l)\n",
        "\n",
        "# remove item from list\n",
        "l.remove(\"NLP\")\n",
        "print('This is the list after removing \"NLP\" from it:             ', l)\n",
        "\n",
        "# remove item from list by index\n",
        "d=l.pop(3)\n",
        "print(f\"The list after removing the item of index 3, which is {d}: {l}\")\n",
        "\n",
        "# sort list\n",
        "l.sort()\n",
        "print('This is the list after sorting it:                       ', l)\n",
        "\n",
        "# reverse list\n",
        "l.reverse()\n",
        "print('This is the list after reversing it:                     ', l)\n",
        "\n",
        "\n",
        "# get count of items in a list\n",
        "print('number of items in the list:                             ', len(l))\n",
        "\n",
        "# access items in a list (zero-indexed)\n",
        "print('first item in the list:                                  ', l[0])\n",
        "\n",
        "# access the last item in a list\n",
        "print('last item in the list:                                   ', l[-1])\n",
        "\n",
        "# access a slice from the list\n",
        "print('from item of index \"1\" to item of index \"2\":             ', l[1:3]) \n",
        "print('from the first item to item of index \"1\":                ', l[:2])\n",
        "print('from item of index \"1\" to the last item:                 ', l[1:])\n",
        "\n",
        "# set item in a list\n",
        "l[1] = 2\n",
        "\n",
        "print('the list after changing the second item from 5 to 2:     ', l)\n",
        "\n",
        "# remove item from list\n",
        "del l[0]\n",
        "\n",
        "print('the list after removing the first item:                  ', l)\n"
      ],
      "outputs": [
        {
          "output_type": "stream",
          "name": "stdout",
          "text": [
            "This is the original list:                                [1, 'NLP', 2.3]\n",
            "This is the list after adding \"4\" to it:                  [1, 'NLP', 2.3, '4']\n",
            "This is the list after extending it with [5, 6]:          [1, 'NLP', 2.3, '4', 5, 6]\n",
            "This is the list after inserting \"0\" at index \"2\":        [1, 'NLP', 0, 2.3, '4', 5, 6]\n",
            "This is the list after removing \"NLP\" from it:              [1, 0, 2.3, '4', 5, 6]\n",
            "The list after removing the item of index 3, which is 4: [1, 0, 2.3, 5, 6]\n",
            "This is the list after sorting it:                        [0, 1, 2.3, 5, 6]\n",
            "This is the list after reversing it:                      [6, 5, 2.3, 1, 0]\n",
            "number of items in the list:                              5\n",
            "first item in the list:                                   6\n",
            "last item in the list:                                    0\n",
            "from item of index \"1\" to item of index \"2\":              [5, 2.3]\n",
            "from the first item to item of index \"1\":                 [6, 5]\n",
            "from item of index \"1\" to the last item:                  [5, 2.3, 1, 0]\n",
            "the list after changing the second item from 5 to 2:      [6, 2, 2.3, 1, 0]\n",
            "the list after removing the first item:                   [2, 2.3, 1, 0]\n"
          ]
        }
      ],
      "execution_count": 12,
      "metadata": {},
      "id": "10e2ff82"
    },
    {
      "cell_type": "markdown",
      "source": [
        "### Dictionaries\n",
        "Dictionaries store data as (`key`, `value`) pairs of arbitrary types."
      ],
      "metadata": {},
      "id": "0dc33a03"
    },
    {
      "cell_type": "code",
      "source": [
        "d = {   \n",
        "        \"1\": 1, \n",
        "        \"2\": 2, \n",
        "        3: \"3\", \n",
        "        4.5:\"4.5\"\n",
        "    }\n",
        "print('item with a string key:              ', d[\"1\"])\n",
        "print('item with an int key:                ', d[3])\n",
        "print('item with a float key:               ', d[4.5])\n",
        "\n",
        "# get value of a specific key\n",
        "print('value of key 4.5:                    ', d.get(4.5))\n",
        "\n",
        "# add item to the dictionary\n",
        "d[5] = \"5\"\n",
        "print('dictionary after adding an item:     ', d)\n",
        "\n",
        "# update item in the dictionary\n",
        "d[5] = \"five\"\n",
        "print('dictionary after updating an item:   ', d)\n",
        "\n",
        "# print all keys in the dictionary\n",
        "print('keys in the dictionary:              ', d.keys())\n",
        "\n",
        "# print all values in the dictionary\n",
        "print('values in the dictionary:            ', d.values())\n",
        "\n",
        "# print all items in the dictionary\n",
        "print('items in the dictionary:             ', d.items())\n",
        "\n",
        "# pop item from the dictionary\n",
        "item=d.pop('1')\n",
        "print(f\"dictionary after popping the item with key '1', which is {item}: {d}\")\n",
        "\n",
        "\n",
        "# delete item with a specific key\n",
        "del d[\"2\"]\n",
        "print('dictionary after deleting an item:   ', d)\n"
      ],
      "outputs": [
        {
          "output_type": "stream",
          "name": "stdout",
          "text": [
            "item with a string key:               1\n",
            "item with an int key:                 3\n",
            "item with a float key:                4.5\n",
            "value of key 4.5:                     4.5\n",
            "dictionary after adding an item:      {'1': 1, '2': 2, 3: '3', 4.5: '4.5', 5: '5'}\n",
            "dictionary after updating an item:    {'1': 1, '2': 2, 3: '3', 4.5: '4.5', 5: 'five'}\n",
            "keys in the dictionary:               dict_keys(['1', '2', 3, 4.5, 5])\n",
            "values in the dictionary:             dict_values([1, 2, '3', '4.5', 'five'])\n",
            "items in the dictionary:              dict_items([('1', 1), ('2', 2), (3, '3'), (4.5, '4.5'), (5, 'five')])\n",
            "dictionary after popping the item with key '1', which is 1: {'2': 2, 3: '3', 4.5: '4.5', 5: 'five'}\n",
            "dictionary after deleting an item:    {3: '3', 4.5: '4.5', 5: 'five'}\n"
          ]
        }
      ],
      "execution_count": 14,
      "metadata": {},
      "id": "acbfc8cf"
    },
    {
      "cell_type": "markdown",
      "source": [
        "### Tuples\n",
        "Tuples are `immutable` objects, lists are `mutable`.\n",
        "\n",
        "Tuples cannot be changed while lists can."
      ],
      "metadata": {},
      "id": "88fb50cc"
    },
    {
      "cell_type": "code",
      "source": [
        "t = (1, 2.5, \"3\")\n",
        "print('original tuple:  ', t)\n",
        "print('first item       ', t[0])\n",
        "print()\n",
        "\n",
        "\"\"\"\n",
        "Tuple is immutable, although you can use the + operator to concatenate several tuples.\n",
        " The old object is still present at this point, and a new object is created.\n",
        "\"\"\"\n",
        "t = t + (4,)\n",
        "print('after adding 4:  ', t)\n",
        "\n",
        "# tuples can be a key of a dict\n",
        "d = {t: \"tuple\"}\n",
        "print(d[t])\n",
        "print(d)"
      ],
      "outputs": [
        {
          "output_type": "stream",
          "name": "stdout",
          "text": [
            "original tuple:   (1, 2.5, '3')\n",
            "first item        1\n",
            "\n",
            "after adding 4:   (1, 2.5, '3', 4)\n",
            "tuple\n",
            "{(1, 2.5, '3', 4): 'tuple'}\n"
          ]
        }
      ],
      "execution_count": 2,
      "metadata": {},
      "id": "e6a9a5ed"
    },
    {
      "cell_type": "code",
      "source": [
        "# this will get an error (recall: tuple are immutable)\n",
        "# tuples are immutable so you can't change them\n",
        "t[0]=2"
      ],
      "outputs": [
        {
          "output_type": "error",
          "ename": "TypeError",
          "evalue": "'tuple' object does not support item assignment",
          "traceback": [
            "\u001b[1;31m---------------------------------------------------------------------------\u001b[0m",
            "\u001b[1;31mTypeError\u001b[0m                                 Traceback (most recent call last)",
            "\u001b[1;32mg:\\My Drive\\First Term\\NLP\\Introduction to Python.ipynb Cell 18\u001b[0m line \u001b[0;36m3\n\u001b[0;32m      <a href='vscode-notebook-cell:/g%3A/My%20Drive/First%20Term/NLP/Introduction%20to%20Python.ipynb#X23sZmlsZQ%3D%3D?line=0'>1</a>\u001b[0m \u001b[39m# this will get an error (recall: tuple are immutable)\u001b[39;00m\n\u001b[0;32m      <a href='vscode-notebook-cell:/g%3A/My%20Drive/First%20Term/NLP/Introduction%20to%20Python.ipynb#X23sZmlsZQ%3D%3D?line=1'>2</a>\u001b[0m \u001b[39m# tuples are immutable so you can't change them\u001b[39;00m\n\u001b[1;32m----> <a href='vscode-notebook-cell:/g%3A/My%20Drive/First%20Term/NLP/Introduction%20to%20Python.ipynb#X23sZmlsZQ%3D%3D?line=2'>3</a>\u001b[0m t[\u001b[39m0\u001b[39;49m]\u001b[39m=\u001b[39m\u001b[39m2\u001b[39m\n",
            "\u001b[1;31mTypeError\u001b[0m: 'tuple' object does not support item assignment"
          ]
        }
      ],
      "execution_count": 3,
      "metadata": {},
      "id": "f0ee489d"
    },
    {
      "cell_type": "markdown",
      "source": [
        "### Sets\n",
        "- `Unchangeable`: same as tuples\n",
        "- `unindexed`: we cannot access a specific index\n",
        "- `unique values only`: no duplicate values"
      ],
      "metadata": {},
      "id": "4569543a"
    },
    {
      "cell_type": "code",
      "source": [
        "s = {\"a\", \"b\", \"c\"}\n",
        "print(s)\n",
        "\n",
        "# add item to the set\n",
        "s.add(5)\n",
        "print(s)\n",
        "# remove item from the set\n",
        "s.remove(\"a\")\n",
        "print(s)\n",
        "\n",
        "# try adding duplicate items\n",
        "s = {5, \"b\", \"c\", \"b\"}\n",
        "print(s)"
      ],
      "outputs": [
        {
          "output_type": "stream",
          "name": "stdout",
          "text": [
            "{'c', 'a', 'b'}\n",
            "{'c', 'a', 5, 'b'}\n",
            "{'c', 5, 'b'}\n",
            "{'c', 5, 'b'}\n"
          ]
        }
      ],
      "execution_count": 5,
      "metadata": {},
      "id": "ef6b98f4"
    },
    {
      "cell_type": "code",
      "source": [
        "# this will get an error (recall: sets not subscriptable)\n",
        "s[0]"
      ],
      "outputs": [
        {
          "output_type": "error",
          "ename": "TypeError",
          "evalue": "'set' object is not subscriptable",
          "traceback": [
            "\u001b[1;31m---------------------------------------------------------------------------\u001b[0m",
            "\u001b[1;31mTypeError\u001b[0m                                 Traceback (most recent call last)",
            "\u001b[1;32mg:\\My Drive\\First Term\\NLP\\Introduction to Python.ipynb Cell 21\u001b[0m line \u001b[0;36m2\n\u001b[0;32m      <a href='vscode-notebook-cell:/g%3A/My%20Drive/First%20Term/NLP/Introduction%20to%20Python.ipynb#X26sZmlsZQ%3D%3D?line=0'>1</a>\u001b[0m \u001b[39m# this will get an error (recall: sets not subscriptable)\u001b[39;00m\n\u001b[1;32m----> <a href='vscode-notebook-cell:/g%3A/My%20Drive/First%20Term/NLP/Introduction%20to%20Python.ipynb#X26sZmlsZQ%3D%3D?line=1'>2</a>\u001b[0m s[\u001b[39m0\u001b[39;49m]\n",
            "\u001b[1;31mTypeError\u001b[0m: 'set' object is not subscriptable"
          ]
        }
      ],
      "execution_count": 6,
      "metadata": {},
      "id": "d523783c"
    },
    {
      "cell_type": "markdown",
      "source": [
        "### Conversions"
      ],
      "metadata": {},
      "id": "0dbf140a"
    },
    {
      "cell_type": "code",
      "source": [
        "# convert a string to a list of characters\n",
        "l=list(\"abc def\")\n",
        "\n",
        "print(l)"
      ],
      "outputs": [
        {
          "output_type": "stream",
          "name": "stdout",
          "text": [
            "['a', 'b', 'c', ' ', 'd', 'e', 'f']\n"
          ]
        }
      ],
      "execution_count": 7,
      "metadata": {},
      "id": "cb11f604"
    },
    {
      "cell_type": "code",
      "source": [
        "s= set([\"one\",\"two\",\"one\"])\n",
        "print(s)"
      ],
      "outputs": [
        {
          "output_type": "stream",
          "name": "stdout",
          "text": [
            "{'two', 'one'}\n"
          ]
        }
      ],
      "execution_count": 8,
      "metadata": {},
      "id": "71923714"
    },
    {
      "cell_type": "code",
      "source": [
        "w=\"words with spaces\".split() # split the string into a list of words\n",
        "print(w)\n",
        "\n",
        "# split the string on a specific character (,)\n",
        "n=\"1,4,8,2\".split(\",\")\n",
        "print(n)"
      ],
      "outputs": [
        {
          "output_type": "stream",
          "name": "stdout",
          "text": [
            "['words', 'with', 'spaces']\n",
            "['1', '4', '8', '2']\n"
          ]
        }
      ],
      "execution_count": 9,
      "metadata": {},
      "id": "3aa7e5d2"
    },
    {
      "cell_type": "code",
      "source": [
        "# join the list of words into a string\n",
        "print(' '.join(w) )\n",
        "\n",
        "# join the list of words into a string with a comma between them\n",
        "print(','.join(n))"
      ],
      "outputs": [
        {
          "output_type": "stream",
          "name": "stdout",
          "text": [
            "words with spaces\n",
            "1,4,8,2\n"
          ]
        }
      ],
      "execution_count": 12,
      "metadata": {},
      "id": "23dc4ba1"
    },
    {
      "cell_type": "markdown",
      "source": [
        "### Arithmetic Operators"
      ],
      "metadata": {},
      "id": "735bc2e1"
    },
    {
      "cell_type": "code",
      "source": [
        "x = 2\n",
        "y = 3\n",
        "print(x + y)\n",
        "print(x - y)\n",
        "print(y / x)\n",
        "print(y // x)\n",
        "print(x * y)\n",
        "print(y % x)\n",
        "print(x**y)"
      ],
      "outputs": [
        {
          "output_type": "stream",
          "name": "stdout",
          "text": [
            "5\n",
            "-1\n",
            "1.5\n",
            "1\n",
            "6\n",
            "1\n",
            "8\n"
          ]
        }
      ],
      "execution_count": 14,
      "metadata": {},
      "id": "e66df76e"
    },
    {
      "cell_type": "markdown",
      "source": [
        "### Assignment operators"
      ],
      "metadata": {},
      "id": "2843f9f1"
    },
    {
      "cell_type": "code",
      "source": [
        "x = 2\n",
        "print(x)\n",
        "x += 1\n",
        "print(x)\n",
        "x -= 1\n",
        "print(x)\n",
        "x /= 2\n",
        "print(x)\n",
        "x *= 3\n",
        "print(x)\n",
        "x //= 2\n",
        "print(x)"
      ],
      "outputs": [
        {
          "output_type": "stream",
          "name": "stdout",
          "text": [
            "2\n",
            "3\n",
            "2\n",
            "1.0\n",
            "3.0\n",
            "1.0\n"
          ]
        }
      ],
      "execution_count": 15,
      "metadata": {},
      "id": "f99ddc82"
    },
    {
      "cell_type": "markdown",
      "source": [
        "### Comparison operators"
      ],
      "metadata": {},
      "id": "c5974f71"
    },
    {
      "cell_type": "code",
      "source": [
        "x = 3\n",
        "y = 2\n",
        "print(x == y)\n",
        "print(x != y)\n",
        "print(x >= y)\n",
        "print(x <= y)\n",
        "print(x > y)\n",
        "print(x < y)"
      ],
      "outputs": [
        {
          "output_type": "stream",
          "name": "stdout",
          "text": [
            "False\n",
            "True\n",
            "True\n",
            "False\n",
            "True\n",
            "False\n"
          ]
        }
      ],
      "execution_count": 16,
      "metadata": {},
      "id": "ad761d62"
    },
    {
      "cell_type": "markdown",
      "source": [
        "### Logical Operators"
      ],
      "metadata": {},
      "id": "6901b21d"
    },
    {
      "cell_type": "code",
      "source": [
        "x = True\n",
        "y = False\n",
        "print(x and y)\n",
        "print(x or y)\n",
        "print(not y)"
      ],
      "outputs": [
        {
          "output_type": "stream",
          "name": "stdout",
          "text": [
            "False\n",
            "True\n",
            "True\n"
          ]
        }
      ],
      "execution_count": 17,
      "metadata": {},
      "id": "655c3b8e"
    },
    {
      "cell_type": "markdown",
      "source": [
        "# Flow Control\n",
        "`Blocks` in `Python` are structured using `indentation`"
      ],
      "metadata": {},
      "id": "977c721e"
    },
    {
      "cell_type": "markdown",
      "source": [
        "### `if`-`elif`-`else`"
      ],
      "metadata": {},
      "id": "8e8e01df"
    },
    {
      "cell_type": "code",
      "source": [
        "x = 2\n",
        "y = 3\n",
        "if x > y:\n",
        "    # here indentation is important\n",
        "    print (\"x > y\")\n",
        "elif x < y:\n",
        "    print(\"x < y\")\n",
        "else:\n",
        "    print(\"x = y\")"
      ],
      "outputs": [
        {
          "output_type": "stream",
          "name": "stdout",
          "text": [
            "x < y\n"
          ]
        }
      ],
      "execution_count": 18,
      "metadata": {},
      "id": "7b565f7f"
    },
    {
      "cell_type": "markdown",
      "source": [
        "### `while` loops"
      ],
      "metadata": {},
      "id": "a8130c0b"
    },
    {
      "cell_type": "code",
      "source": [
        "# while loops\n",
        "i = 0\n",
        "while i < 10:\n",
        "    print(i)\n",
        "    i += 1"
      ],
      "outputs": [
        {
          "output_type": "stream",
          "name": "stdout",
          "text": [
            "0\n",
            "1\n",
            "2\n",
            "3\n",
            "4\n",
            "5\n",
            "6\n",
            "7\n",
            "8\n",
            "9\n"
          ]
        }
      ],
      "execution_count": 19,
      "metadata": {},
      "id": "f7ba08e7"
    },
    {
      "cell_type": "markdown",
      "source": [
        "### `for` loops\n",
        "for is used to iterate over sequences like lists, dictionaries, sets, strings, tuples, ...\n"
      ],
      "metadata": {},
      "id": "1c2a6afe"
    },
    {
      "cell_type": "code",
      "source": [
        "l = [\"1\", \"2\", 3, 4, 5.3]\n",
        "for item in l:\n",
        "    print(item)\n",
        "    \n",
        "print()\n",
        "\n",
        "# range function\n",
        "print(list(range(2, 10)))\n",
        "print(list(range(10)))\n",
        "print(list(range(2, 10, 2)))\n",
        "print()\n",
        "\n",
        "for i in range(2, 10):\n",
        "    print(i)\n",
        "    \n",
        "print()\n",
        "\n",
        "s = \"NLP\"\n",
        "for c in s:\n",
        "    print(c)"
      ],
      "outputs": [
        {
          "output_type": "stream",
          "name": "stdout",
          "text": [
            "1\n",
            "2\n",
            "3\n",
            "4\n",
            "5.3\n",
            "\n",
            "[2, 3, 4, 5, 6, 7, 8, 9]\n",
            "[0, 1, 2, 3, 4, 5, 6, 7, 8, 9]\n",
            "[2, 4, 6, 8]\n",
            "\n",
            "2\n",
            "3\n",
            "4\n",
            "5\n",
            "6\n",
            "7\n",
            "8\n",
            "9\n",
            "\n",
            "N\n",
            "L\n",
            "P\n"
          ]
        }
      ],
      "execution_count": 20,
      "metadata": {},
      "id": "9c99c712"
    },
    {
      "cell_type": "markdown",
      "source": [
        "# Functions"
      ],
      "metadata": {},
      "id": "c0b1c093"
    },
    {
      "cell_type": "code",
      "source": [
        "# function with no arguments\n",
        "def func():\n",
        "    print(\"in func\")"
      ],
      "outputs": [],
      "execution_count": 21,
      "metadata": {},
      "id": "be7868ca"
    },
    {
      "cell_type": "code",
      "source": [
        "func()"
      ],
      "outputs": [
        {
          "output_type": "stream",
          "name": "stdout",
          "text": [
            "in func\n"
          ]
        }
      ],
      "execution_count": 22,
      "metadata": {},
      "id": "99620132"
    },
    {
      "cell_type": "code",
      "source": [
        "# function with arguments\n",
        "def func(a):\n",
        "    print(a)"
      ],
      "outputs": [],
      "execution_count": 23,
      "metadata": {},
      "id": "b2e643ae"
    },
    {
      "cell_type": "code",
      "source": [
        "func(3)\n",
        "func([1, 2])"
      ],
      "outputs": [
        {
          "output_type": "stream",
          "name": "stdout",
          "text": [
            "3\n",
            "[1, 2]\n"
          ]
        }
      ],
      "execution_count": 24,
      "metadata": {},
      "id": "e81f703a"
    },
    {
      "cell_type": "code",
      "source": [
        "# function that makes some logic and returns a value\n",
        "def func(a):\n",
        "    return a + 1"
      ],
      "outputs": [],
      "execution_count": 25,
      "metadata": {},
      "id": "3d958ba4"
    },
    {
      "cell_type": "code",
      "source": [
        "f = func(3)\n",
        "print(f)"
      ],
      "outputs": [
        {
          "output_type": "stream",
          "name": "stdout",
          "text": [
            "4\n"
          ]
        }
      ],
      "execution_count": 26,
      "metadata": {},
      "id": "cf7be4bd"
    },
    {
      "cell_type": "code",
      "source": [
        "# function that takes a variable number of arguments\n",
        "def func(*args):\n",
        "    for arg in args:\n",
        "        print(arg)\n",
        "    print(args) #Compare this with keyword argument **kwargs blow :D"
      ],
      "outputs": [],
      "execution_count": 42,
      "metadata": {},
      "id": "72675e3e"
    },
    {
      "cell_type": "code",
      "source": [
        "func(1, 2, \"NLP\")"
      ],
      "outputs": [
        {
          "output_type": "stream",
          "name": "stdout",
          "text": [
            "1\n",
            "2\n",
            "NLP\n",
            "(1, 2, 'NLP')\n"
          ]
        }
      ],
      "execution_count": 43,
      "metadata": {},
      "id": "31d953f4"
    },
    {
      "cell_type": "code",
      "source": [
        "# function with 3 arguments\n",
        "def func(a, b, c):\n",
        "    print(a, b, c)"
      ],
      "outputs": [],
      "execution_count": 29,
      "metadata": {},
      "id": "0f914bb7"
    },
    {
      "cell_type": "code",
      "source": [
        "func(1, 2, 3)\n",
        "func(b=2, a=1, c=3)"
      ],
      "outputs": [
        {
          "output_type": "stream",
          "name": "stdout",
          "text": [
            "1 2 3\n",
            "1 2 3\n"
          ]
        }
      ],
      "execution_count": 30,
      "metadata": {},
      "id": "0f21853a"
    },
    {
      "cell_type": "code",
      "source": [
        "# a function with an argument that has a default value\n",
        "def func(a,b=1):\n",
        "    print(a,b)"
      ],
      "outputs": [],
      "execution_count": 31,
      "metadata": {},
      "id": "0f0edb3e"
    },
    {
      "cell_type": "code",
      "source": [
        "func(2,5)\n",
        "func(2)"
      ],
      "outputs": [
        {
          "output_type": "stream",
          "name": "stdout",
          "text": [
            "2 5\n",
            "2 1\n"
          ]
        }
      ],
      "execution_count": 32,
      "metadata": {},
      "id": "5a142cd2"
    },
    {
      "cell_type": "code",
      "source": [
        "# get an error (non-default argument follows default argument)\n",
        "def func(b=9,a):\n",
        "    print(a,b)"
      ],
      "outputs": [
        {
          "output_type": "error",
          "ename": "SyntaxError",
          "evalue": "non-default argument follows default argument (25820532.py, line 2)",
          "traceback": [
            "\u001b[1;36m  Cell \u001b[1;32mIn[33], line 2\u001b[1;36m\u001b[0m\n\u001b[1;33m    def func(b=9,a):\u001b[0m\n\u001b[1;37m                 ^\u001b[0m\n\u001b[1;31mSyntaxError\u001b[0m\u001b[1;31m:\u001b[0m non-default argument follows default argument\n"
          ]
        }
      ],
      "execution_count": 33,
      "metadata": {},
      "id": "9c3cdf40"
    },
    {
      "cell_type": "code",
      "source": [
        "# a function with a keyword arguments\n",
        "def func(**kwargs):\n",
        "    print(kwargs[\"subject\"])\n",
        "    print(kwargs)#Compare with variable number arguments above :S"
      ],
      "outputs": [],
      "execution_count": 44,
      "metadata": {},
      "id": "2e20ac8b"
    },
    {
      "cell_type": "code",
      "source": [
        "func(subject=\"NLP\", section=1)"
      ],
      "outputs": [
        {
          "output_type": "stream",
          "name": "stdout",
          "text": [
            "NLP\n",
            "{'subject': 'NLP', 'section': 1}\n"
          ]
        }
      ],
      "execution_count": 45,
      "metadata": {},
      "id": "42aae6b4"
    },
    {
      "cell_type": "markdown",
      "source": [
        "# Classes"
      ],
      "metadata": {},
      "id": "cb02733b"
    },
    {
      "cell_type": "code",
      "source": [
        "class Human:\n",
        "    def __init__(self, name):\n",
        "        self.name = name\n",
        "        print(\"Human created\")\n",
        "    \n",
        "    def __str__(self):\n",
        "        # __str__(self): This is a special method used to define the string representation of an object when it is converted to a string (e.g., when you use str(instance) or print(instance)).\n",
        "        return f\"My name is {self.name}\"\n",
        "    \n",
        "    def changeName(self, name):\n",
        "        print(f\"replacing {self.name} with {name}\")\n",
        "        self.name = name"
      ],
      "outputs": [],
      "execution_count": 1,
      "metadata": {},
      "id": "7adc17dd"
    },
    {
      "cell_type": "code",
      "source": [
        "h = Human(\"omar\")\n",
        "print(h)\n",
        "h.changeName(\"mohamed\")\n",
        "print(h)"
      ],
      "outputs": [
        {
          "output_type": "stream",
          "name": "stdout",
          "text": [
            "Human created\n",
            "My name is omar\n",
            "replacing omar with mohamed\n",
            "My name is mohamed\n"
          ]
        }
      ],
      "execution_count": 2,
      "metadata": {},
      "id": "84f0f220"
    },
    {
      "cell_type": "code",
      "source": [
        "class Student(Human):\n",
        "    def __init__(self, name, year):\n",
        "        Human.__init__(self, name)\n",
        "        self.year = year\n",
        "        print(\"Student created\")\n",
        "        \n",
        "    def __str__(self):\n",
        "        return f\"Student name: {self.name}\\nIn year: {self.year}\"\n",
        "    \n",
        "    def passed(self):\n",
        "        self.year += 1"
      ],
      "outputs": [],
      "execution_count": 3,
      "metadata": {},
      "id": "c3e78432"
    },
    {
      "cell_type": "code",
      "source": [
        "s = Student(\"omar\", 4)\n",
        "print(s)\n",
        "s.passed()\n",
        "print(s)"
      ],
      "outputs": [
        {
          "output_type": "stream",
          "name": "stdout",
          "text": [
            "Human created\n",
            "Student created\n",
            "Student name: omar\n",
            "In year: 4\n",
            "Student name: omar\n",
            "In year: 5\n"
          ]
        }
      ],
      "execution_count": 4,
      "metadata": {},
      "id": "fd53b979"
    },
    {
      "cell_type": "markdown",
      "source": [
        "# Towards Text Processing"
      ],
      "metadata": {},
      "id": "7d2a6132"
    },
    {
      "cell_type": "code",
      "source": [
        "# Natural Language Toolkit\n",
        "!pip install nltk"
      ],
      "outputs": [
        {
          "output_type": "stream",
          "name": "stdout",
          "text": [
            "Requirement already satisfied: nltk in c:\\users\\dell\\appdata\\local\\programs\\python\\python310\\lib\\site-packages (3.8.1)\n",
            "Requirement already satisfied: click in c:\\users\\dell\\appdata\\local\\programs\\python\\python310\\lib\\site-packages (from nltk) (8.1.3)\n",
            "Requirement already satisfied: joblib in c:\\users\\dell\\appdata\\local\\programs\\python\\python310\\lib\\site-packages (from nltk) (1.2.0)\n",
            "Requirement already satisfied: regex>=2021.8.3 in c:\\users\\dell\\appdata\\local\\programs\\python\\python310\\lib\\site-packages (from nltk) (2023.8.8)\n",
            "Requirement already satisfied: tqdm in c:\\users\\dell\\appdata\\local\\programs\\python\\python310\\lib\\site-packages (from nltk) (4.64.1)\n",
            "Requirement already satisfied: colorama in c:\\users\\dell\\appdata\\local\\programs\\python\\python310\\lib\\site-packages (from click->nltk) (0.4.6)\n"
          ]
        },
        {
          "output_type": "stream",
          "name": "stderr",
          "text": [
            "\n",
            "[notice] A new release of pip is available: 23.1.2 -> 23.2.1\n",
            "[notice] To update, run: python.exe -m pip install --upgrade pip\n"
          ]
        }
      ],
      "execution_count": 5,
      "metadata": {},
      "id": "50a7c32f"
    },
    {
      "cell_type": "code",
      "source": [
        "import nltk\n",
        "nltk.download('book')"
      ],
      "outputs": [
        {
          "output_type": "stream",
          "name": "stderr",
          "text": [
            "[nltk_data] Downloading collection 'book'\n",
            "[nltk_data]    | \n",
            "[nltk_data]    | Downloading package abc to\n",
            "[nltk_data]    |     C:\\Users\\Dell\\AppData\\Roaming\\nltk_data...\n",
            "[nltk_data]    |   Unzipping corpora\\abc.zip.\n",
            "[nltk_data]    | Downloading package brown to\n",
            "[nltk_data]    |     C:\\Users\\Dell\\AppData\\Roaming\\nltk_data...\n",
            "[nltk_data]    |   Unzipping corpora\\brown.zip.\n",
            "[nltk_data]    | Downloading package chat80 to\n",
            "[nltk_data]    |     C:\\Users\\Dell\\AppData\\Roaming\\nltk_data...\n",
            "[nltk_data]    |   Unzipping corpora\\chat80.zip.\n",
            "[nltk_data]    | Downloading package cmudict to\n",
            "[nltk_data]    |     C:\\Users\\Dell\\AppData\\Roaming\\nltk_data...\n",
            "[nltk_data]    |   Unzipping corpora\\cmudict.zip.\n",
            "[nltk_data]    | Downloading package conll2000 to\n",
            "[nltk_data]    |     C:\\Users\\Dell\\AppData\\Roaming\\nltk_data...\n",
            "[nltk_data]    |   Unzipping corpora\\conll2000.zip.\n",
            "[nltk_data]    | Downloading package conll2002 to\n",
            "[nltk_data]    |     C:\\Users\\Dell\\AppData\\Roaming\\nltk_data...\n",
            "[nltk_data]    |   Unzipping corpora\\conll2002.zip.\n",
            "[nltk_data]    | Downloading package dependency_treebank to\n",
            "[nltk_data]    |     C:\\Users\\Dell\\AppData\\Roaming\\nltk_data...\n",
            "[nltk_data]    |   Unzipping corpora\\dependency_treebank.zip.\n",
            "[nltk_data]    | Downloading package genesis to\n",
            "[nltk_data]    |     C:\\Users\\Dell\\AppData\\Roaming\\nltk_data...\n",
            "[nltk_data]    |   Unzipping corpora\\genesis.zip.\n",
            "[nltk_data]    | Downloading package gutenberg to\n",
            "[nltk_data]    |     C:\\Users\\Dell\\AppData\\Roaming\\nltk_data...\n",
            "[nltk_data]    |   Unzipping corpora\\gutenberg.zip.\n",
            "[nltk_data]    | Downloading package ieer to\n",
            "[nltk_data]    |     C:\\Users\\Dell\\AppData\\Roaming\\nltk_data...\n",
            "[nltk_data]    |   Unzipping corpora\\ieer.zip.\n",
            "[nltk_data]    | Downloading package inaugural to\n",
            "[nltk_data]    |     C:\\Users\\Dell\\AppData\\Roaming\\nltk_data...\n",
            "[nltk_data]    |   Unzipping corpora\\inaugural.zip.\n",
            "[nltk_data]    | Downloading package movie_reviews to\n",
            "[nltk_data]    |     C:\\Users\\Dell\\AppData\\Roaming\\nltk_data...\n",
            "[nltk_data]    |   Unzipping corpora\\movie_reviews.zip.\n",
            "[nltk_data]    | Downloading package nps_chat to\n",
            "[nltk_data]    |     C:\\Users\\Dell\\AppData\\Roaming\\nltk_data...\n",
            "[nltk_data]    |   Unzipping corpora\\nps_chat.zip.\n",
            "[nltk_data]    | Downloading package names to\n",
            "[nltk_data]    |     C:\\Users\\Dell\\AppData\\Roaming\\nltk_data...\n",
            "[nltk_data]    |   Unzipping corpora\\names.zip.\n",
            "[nltk_data]    | Downloading package ppattach to\n",
            "[nltk_data]    |     C:\\Users\\Dell\\AppData\\Roaming\\nltk_data...\n",
            "[nltk_data]    |   Unzipping corpora\\ppattach.zip.\n",
            "[nltk_data]    | Downloading package reuters to\n",
            "[nltk_data]    |     C:\\Users\\Dell\\AppData\\Roaming\\nltk_data...\n",
            "[nltk_data]    | Downloading package senseval to\n",
            "[nltk_data]    |     C:\\Users\\Dell\\AppData\\Roaming\\nltk_data...\n",
            "[nltk_data]    |   Unzipping corpora\\senseval.zip.\n",
            "[nltk_data]    | Downloading package state_union to\n",
            "[nltk_data]    |     C:\\Users\\Dell\\AppData\\Roaming\\nltk_data...\n",
            "[nltk_data]    |   Unzipping corpora\\state_union.zip.\n",
            "[nltk_data]    | Downloading package stopwords to\n",
            "[nltk_data]    |     C:\\Users\\Dell\\AppData\\Roaming\\nltk_data...\n",
            "[nltk_data]    |   Package stopwords is already up-to-date!\n",
            "[nltk_data]    | Downloading package swadesh to\n",
            "[nltk_data]    |     C:\\Users\\Dell\\AppData\\Roaming\\nltk_data...\n",
            "[nltk_data]    |   Unzipping corpora\\swadesh.zip.\n",
            "[nltk_data]    | Downloading package timit to\n",
            "[nltk_data]    |     C:\\Users\\Dell\\AppData\\Roaming\\nltk_data...\n",
            "[nltk_data]    |   Unzipping corpora\\timit.zip.\n",
            "[nltk_data]    | Downloading package treebank to\n",
            "[nltk_data]    |     C:\\Users\\Dell\\AppData\\Roaming\\nltk_data...\n",
            "[nltk_data]    |   Unzipping corpora\\treebank.zip.\n",
            "[nltk_data]    | Downloading package toolbox to\n",
            "[nltk_data]    |     C:\\Users\\Dell\\AppData\\Roaming\\nltk_data...\n",
            "[nltk_data]    |   Unzipping corpora\\toolbox.zip.\n",
            "[nltk_data]    | Downloading package udhr to\n",
            "[nltk_data]    |     C:\\Users\\Dell\\AppData\\Roaming\\nltk_data...\n",
            "[nltk_data]    |   Unzipping corpora\\udhr.zip.\n",
            "[nltk_data]    | Downloading package udhr2 to\n",
            "[nltk_data]    |     C:\\Users\\Dell\\AppData\\Roaming\\nltk_data...\n",
            "[nltk_data]    |   Unzipping corpora\\udhr2.zip.\n",
            "[nltk_data]    | Downloading package unicode_samples to\n",
            "[nltk_data]    |     C:\\Users\\Dell\\AppData\\Roaming\\nltk_data...\n",
            "[nltk_data]    |   Unzipping corpora\\unicode_samples.zip.\n",
            "[nltk_data]    | Downloading package webtext to\n",
            "[nltk_data]    |     C:\\Users\\Dell\\AppData\\Roaming\\nltk_data...\n",
            "[nltk_data]    |   Unzipping corpora\\webtext.zip.\n",
            "[nltk_data]    | Downloading package wordnet to\n",
            "[nltk_data]    |     C:\\Users\\Dell\\AppData\\Roaming\\nltk_data...\n",
            "[nltk_data]    | Downloading package wordnet_ic to\n",
            "[nltk_data]    |     C:\\Users\\Dell\\AppData\\Roaming\\nltk_data...\n",
            "[nltk_data]    |   Unzipping corpora\\wordnet_ic.zip.\n",
            "[nltk_data]    | Downloading package words to\n",
            "[nltk_data]    |     C:\\Users\\Dell\\AppData\\Roaming\\nltk_data...\n",
            "[nltk_data]    |   Unzipping corpora\\words.zip.\n",
            "[nltk_data]    | Downloading package maxent_treebank_pos_tagger to\n",
            "[nltk_data]    |     C:\\Users\\Dell\\AppData\\Roaming\\nltk_data...\n",
            "[nltk_data]    |   Unzipping taggers\\maxent_treebank_pos_tagger.zip.\n",
            "[nltk_data]    | Downloading package maxent_ne_chunker to\n",
            "[nltk_data]    |     C:\\Users\\Dell\\AppData\\Roaming\\nltk_data...\n",
            "[nltk_data]    |   Unzipping chunkers\\maxent_ne_chunker.zip.\n",
            "[nltk_data]    | Downloading package universal_tagset to\n",
            "[nltk_data]    |     C:\\Users\\Dell\\AppData\\Roaming\\nltk_data...\n",
            "[nltk_data]    |   Unzipping taggers\\universal_tagset.zip.\n",
            "[nltk_data]    | Downloading package punkt to\n",
            "[nltk_data]    |     C:\\Users\\Dell\\AppData\\Roaming\\nltk_data...\n",
            "[nltk_data]    |   Unzipping tokenizers\\punkt.zip.\n",
            "[nltk_data]    | Downloading package book_grammars to\n",
            "[nltk_data]    |     C:\\Users\\Dell\\AppData\\Roaming\\nltk_data...\n",
            "[nltk_data]    |   Unzipping grammars\\book_grammars.zip.\n",
            "[nltk_data]    | Downloading package city_database to\n",
            "[nltk_data]    |     C:\\Users\\Dell\\AppData\\Roaming\\nltk_data...\n",
            "[nltk_data]    |   Unzipping corpora\\city_database.zip.\n",
            "[nltk_data]    | Downloading package tagsets to\n",
            "[nltk_data]    |     C:\\Users\\Dell\\AppData\\Roaming\\nltk_data...\n",
            "[nltk_data]    |   Unzipping help\\tagsets.zip.\n",
            "[nltk_data]    | Downloading package panlex_swadesh to\n",
            "[nltk_data]    |     C:\\Users\\Dell\\AppData\\Roaming\\nltk_data...\n",
            "[nltk_data]    | Downloading package averaged_perceptron_tagger to\n",
            "[nltk_data]    |     C:\\Users\\Dell\\AppData\\Roaming\\nltk_data...\n",
            "[nltk_data]    |   Unzipping taggers\\averaged_perceptron_tagger.zip.\n",
            "[nltk_data]    | \n",
            "[nltk_data]  Done downloading collection book\n"
          ]
        },
        {
          "output_type": "execute_result",
          "execution_count": 6,
          "data": {
            "text/plain": "True"
          },
          "metadata": {}
        }
      ],
      "execution_count": 6,
      "metadata": {},
      "id": "06e3b0e7"
    },
    {
      "cell_type": "code",
      "source": [
        "from nltk.book import *"
      ],
      "outputs": [
        {
          "output_type": "stream",
          "name": "stdout",
          "text": [
            "*** Introductory Examples for the NLTK Book ***\n",
            "Loading text1, ..., text9 and sent1, ..., sent9\n",
            "Type the name of the text or sentence to view it.\n",
            "Type: 'texts()' or 'sents()' to list the materials.\n",
            "text1: Moby Dick by Herman Melville 1851\n",
            "text2: Sense and Sensibility by Jane Austen 1811\n",
            "text3: The Book of Genesis\n",
            "text4: Inaugural Address Corpus\n",
            "text5: Chat Corpus\n",
            "text6: Monty Python and the Holy Grail\n",
            "text7: Wall Street Journal\n",
            "text8: Personals Corpus\n",
            "text9: The Man Who Was Thursday by G . K . Chesterton 1908\n"
          ]
        }
      ],
      "execution_count": 46,
      "metadata": {},
      "id": "99aac30c"
    },
    {
      "cell_type": "code",
      "source": [
        "type(text1)"
      ],
      "outputs": [
        {
          "output_type": "execute_result",
          "execution_count": 47,
          "data": {
            "text/plain": "nltk.text.Text"
          },
          "metadata": {}
        }
      ],
      "execution_count": 47,
      "metadata": {},
      "id": "831ff216"
    },
    {
      "cell_type": "code",
      "source": [
        "text1"
      ],
      "outputs": [
        {
          "output_type": "execute_result",
          "execution_count": 48,
          "data": {
            "text/plain": "<Text: Moby Dick by Herman Melville 1851>"
          },
          "metadata": {}
        }
      ],
      "execution_count": 48,
      "metadata": {},
      "id": "d556fe28"
    },
    {
      "cell_type": "code",
      "source": [
        "# search for a specific word in a text\n",
        "text1.concordance(\"monstrous\")"
      ],
      "outputs": [
        {
          "output_type": "stream",
          "name": "stdout",
          "text": [
            "Displaying 11 of 11 matches:\n",
            "ong the former , one was of a most monstrous size . ... This came towards us , \n",
            "ON OF THE PSALMS . \" Touching that monstrous bulk of the whale or ork we have r\n",
            "ll over with a heathenish array of monstrous clubs and spears . Some were thick\n",
            "d as you gazed , and wondered what monstrous cannibal and savage could ever hav\n",
            "that has survived the flood ; most monstrous and most mountainous ! That Himmal\n",
            "they might scout at Moby Dick as a monstrous fable , or still worse and more de\n",
            "th of Radney .'\" CHAPTER 55 Of the Monstrous Pictures of Whales . I shall ere l\n",
            "ing Scenes . In connexion with the monstrous pictures of whales , I am strongly\n",
            "ere to enter upon those still more monstrous stories of them which are to be fo\n",
            "ght have been rummaged out of this monstrous cabinet there is no telling . But \n",
            "of Whale - Bones ; for Whales of a monstrous size are oftentimes cast up dead u\n"
          ]
        }
      ],
      "execution_count": 49,
      "metadata": {},
      "id": "b06dc8d3"
    },
    {
      "cell_type": "code",
      "source": [
        "# the number of tokens in a given text (words and punctuation symbols)\n",
        "len(text3)"
      ],
      "outputs": [
        {
          "output_type": "execute_result",
          "execution_count": 50,
          "data": {
            "text/plain": "44764"
          },
          "metadata": {}
        }
      ],
      "execution_count": 50,
      "metadata": {},
      "id": "aaec2642"
    },
    {
      "cell_type": "code",
      "source": [
        "# to obtain the vocabulary of a given corpora (the unique words and punctuations)\n",
        "sorted(set(text3))"
      ],
      "outputs": [
        {
          "output_type": "execute_result",
          "execution_count": 51,
          "data": {
            "text/plain": "['!',\n \"'\",\n '(',\n ')',\n ',',\n ',)',\n '.',\n '.)',\n ':',\n ';',\n ';)',\n '?',\n '?)',\n 'A',\n 'Abel',\n 'Abelmizraim',\n 'Abidah',\n 'Abide',\n 'Abimael',\n 'Abimelech',\n 'Abr',\n 'Abrah',\n 'Abraham',\n 'Abram',\n 'Accad',\n 'Achbor',\n 'Adah',\n 'Adam',\n 'Adbeel',\n 'Admah',\n 'Adullamite',\n 'After',\n 'Aholibamah',\n 'Ahuzzath',\n 'Ajah',\n 'Akan',\n 'All',\n 'Allonbachuth',\n 'Almighty',\n 'Almodad',\n 'Also',\n 'Alvah',\n 'Alvan',\n 'Am',\n 'Amal',\n 'Amalek',\n 'Amalekites',\n 'Ammon',\n 'Amorite',\n 'Amorites',\n 'Amraphel',\n 'An',\n 'Anah',\n 'Anamim',\n 'And',\n 'Aner',\n 'Angel',\n 'Appoint',\n 'Aram',\n 'Aran',\n 'Ararat',\n 'Arbah',\n 'Ard',\n 'Are',\n 'Areli',\n 'Arioch',\n 'Arise',\n 'Arkite',\n 'Arodi',\n 'Arphaxad',\n 'Art',\n 'Arvadite',\n 'As',\n 'Asenath',\n 'Ashbel',\n 'Asher',\n 'Ashkenaz',\n 'Ashteroth',\n 'Ask',\n 'Asshur',\n 'Asshurim',\n 'Assyr',\n 'Assyria',\n 'At',\n 'Atad',\n 'Avith',\n 'Baalhanan',\n 'Babel',\n 'Bashemath',\n 'Be',\n 'Because',\n 'Becher',\n 'Bedad',\n 'Beeri',\n 'Beerlahairoi',\n 'Beersheba',\n 'Behold',\n 'Bela',\n 'Belah',\n 'Benam',\n 'Benjamin',\n 'Beno',\n 'Beor',\n 'Bera',\n 'Bered',\n 'Beriah',\n 'Bethel',\n 'Bethlehem',\n 'Bethuel',\n 'Beware',\n 'Bilhah',\n 'Bilhan',\n 'Binding',\n 'Birsha',\n 'Bless',\n 'Blessed',\n 'Both',\n 'Bow',\n 'Bozrah',\n 'Bring',\n 'But',\n 'Buz',\n 'By',\n 'Cain',\n 'Cainan',\n 'Calah',\n 'Calneh',\n 'Can',\n 'Cana',\n 'Canaan',\n 'Canaanite',\n 'Canaanites',\n 'Canaanitish',\n 'Caphtorim',\n 'Carmi',\n 'Casluhim',\n 'Cast',\n 'Cause',\n 'Chaldees',\n 'Chedorlaomer',\n 'Cheran',\n 'Cherubims',\n 'Chesed',\n 'Chezib',\n 'Come',\n 'Cursed',\n 'Cush',\n 'Damascus',\n 'Dan',\n 'Day',\n 'Deborah',\n 'Dedan',\n 'Deliver',\n 'Diklah',\n 'Din',\n 'Dinah',\n 'Dinhabah',\n 'Discern',\n 'Dishan',\n 'Dishon',\n 'Do',\n 'Dodanim',\n 'Dothan',\n 'Drink',\n 'Duke',\n 'Dumah',\n 'Earth',\n 'Ebal',\n 'Eber',\n 'Edar',\n 'Eden',\n 'Edom',\n 'Edomites',\n 'Egy',\n 'Egypt',\n 'Egyptia',\n 'Egyptian',\n 'Egyptians',\n 'Ehi',\n 'Elah',\n 'Elam',\n 'Elbethel',\n 'Eldaah',\n 'EleloheIsrael',\n 'Eliezer',\n 'Eliphaz',\n 'Elishah',\n 'Ellasar',\n 'Elon',\n 'Elparan',\n 'Emins',\n 'En',\n 'Enmishpat',\n 'Eno',\n 'Enoch',\n 'Enos',\n 'Ephah',\n 'Epher',\n 'Ephra',\n 'Ephraim',\n 'Ephrath',\n 'Ephron',\n 'Er',\n 'Erech',\n 'Eri',\n 'Es',\n 'Esau',\n 'Escape',\n 'Esek',\n 'Eshban',\n 'Eshcol',\n 'Ethiopia',\n 'Euphrat',\n 'Euphrates',\n 'Eve',\n 'Even',\n 'Every',\n 'Except',\n 'Ezbon',\n 'Ezer',\n 'Fear',\n 'Feed',\n 'Fifteen',\n 'Fill',\n 'For',\n 'Forasmuch',\n 'Forgive',\n 'From',\n 'Fulfil',\n 'G',\n 'Gad',\n 'Gaham',\n 'Galeed',\n 'Gatam',\n 'Gather',\n 'Gaza',\n 'Gentiles',\n 'Gera',\n 'Gerar',\n 'Gershon',\n 'Get',\n 'Gether',\n 'Gihon',\n 'Gilead',\n 'Girgashites',\n 'Girgasite',\n 'Give',\n 'Go',\n 'God',\n 'Gomer',\n 'Gomorrah',\n 'Goshen',\n 'Guni',\n 'Hadad',\n 'Hadar',\n 'Hadoram',\n 'Hagar',\n 'Haggi',\n 'Hai',\n 'Ham',\n 'Hamathite',\n 'Hamor',\n 'Hamul',\n 'Hanoch',\n 'Happy',\n 'Haran',\n 'Hast',\n 'Haste',\n 'Have',\n 'Havilah',\n 'Hazarmaveth',\n 'Hazezontamar',\n 'Hazo',\n 'He',\n 'Hear',\n 'Heaven',\n 'Heber',\n 'Hebrew',\n 'Hebrews',\n 'Hebron',\n 'Hemam',\n 'Hemdan',\n 'Here',\n 'Hereby',\n 'Heth',\n 'Hezron',\n 'Hiddekel',\n 'Hinder',\n 'Hirah',\n 'His',\n 'Hitti',\n 'Hittite',\n 'Hittites',\n 'Hivite',\n 'Hobah',\n 'Hori',\n 'Horite',\n 'Horites',\n 'How',\n 'Hul',\n 'Huppim',\n 'Husham',\n 'Hushim',\n 'Huz',\n 'I',\n 'If',\n 'In',\n 'Irad',\n 'Iram',\n 'Is',\n 'Isa',\n 'Isaac',\n 'Iscah',\n 'Ishbak',\n 'Ishmael',\n 'Ishmeelites',\n 'Ishuah',\n 'Isra',\n 'Israel',\n 'Issachar',\n 'Isui',\n 'It',\n 'Ithran',\n 'Jaalam',\n 'Jabal',\n 'Jabbok',\n 'Jac',\n 'Jachin',\n 'Jacob',\n 'Jahleel',\n 'Jahzeel',\n 'Jamin',\n 'Japhe',\n 'Japheth',\n 'Jared',\n 'Javan',\n 'Jebusite',\n 'Jebusites',\n 'Jegarsahadutha',\n 'Jehovahjireh',\n 'Jemuel',\n 'Jerah',\n 'Jetheth',\n 'Jetur',\n 'Jeush',\n 'Jezer',\n 'Jidlaph',\n 'Jimnah',\n 'Job',\n 'Jobab',\n 'Jokshan',\n 'Joktan',\n 'Jordan',\n 'Joseph',\n 'Jubal',\n 'Judah',\n 'Judge',\n 'Judith',\n 'Kadesh',\n 'Kadmonites',\n 'Karnaim',\n 'Kedar',\n 'Kedemah',\n 'Kemuel',\n 'Kenaz',\n 'Kenites',\n 'Kenizzites',\n 'Keturah',\n 'Kiriathaim',\n 'Kirjatharba',\n 'Kittim',\n 'Know',\n 'Kohath',\n 'Kor',\n 'Korah',\n 'LO',\n 'LORD',\n 'Laban',\n 'Lahairoi',\n 'Lamech',\n 'Lasha',\n 'Lay',\n 'Leah',\n 'Lehabim',\n 'Lest',\n 'Let',\n 'Letushim',\n 'Leummim',\n 'Levi',\n 'Lie',\n 'Lift',\n 'Lo',\n 'Look',\n 'Lot',\n 'Lotan',\n 'Lud',\n 'Ludim',\n 'Luz',\n 'Maachah',\n 'Machir',\n 'Machpelah',\n 'Madai',\n 'Magdiel',\n 'Magog',\n 'Mahalaleel',\n 'Mahalath',\n 'Mahanaim',\n 'Make',\n 'Malchiel',\n 'Male',\n 'Mam',\n 'Mamre',\n 'Man',\n 'Manahath',\n 'Manass',\n 'Manasseh',\n 'Mash',\n 'Masrekah',\n 'Massa',\n 'Matred',\n 'Me',\n 'Medan',\n 'Mehetabel',\n 'Mehujael',\n 'Melchizedek',\n 'Merari',\n 'Mesha',\n 'Meshech',\n 'Mesopotamia',\n 'Methusa',\n 'Methusael',\n 'Methuselah',\n 'Mezahab',\n 'Mibsam',\n 'Mibzar',\n 'Midian',\n 'Midianites',\n 'Milcah',\n 'Mishma',\n 'Mizpah',\n 'Mizraim',\n 'Mizz',\n 'Moab',\n 'Moabites',\n 'Moreh',\n 'Moreover',\n 'Moriah',\n 'Muppim',\n 'My',\n 'Naamah',\n 'Naaman',\n 'Nahath',\n 'Nahor',\n 'Naphish',\n 'Naphtali',\n 'Naphtuhim',\n 'Nay',\n 'Nebajoth',\n 'Neither',\n 'Night',\n 'Nimrod',\n 'Nineveh',\n 'Noah',\n 'Nod',\n 'Not',\n 'Now',\n 'O',\n 'Obal',\n 'Of',\n 'Oh',\n 'Ohad',\n 'Omar',\n 'On',\n 'Onam',\n 'Onan',\n 'Only',\n 'Ophir',\n 'Our',\n 'Out',\n 'Padan',\n 'Padanaram',\n 'Paran',\n 'Pass',\n 'Pathrusim',\n 'Pau',\n 'Peace',\n 'Peleg',\n 'Peniel',\n 'Penuel',\n 'Peradventure',\n 'Perizzit',\n 'Perizzite',\n 'Perizzites',\n 'Phallu',\n 'Phara',\n 'Pharaoh',\n 'Pharez',\n 'Phichol',\n 'Philistim',\n 'Philistines',\n 'Phut',\n 'Phuvah',\n 'Pildash',\n 'Pinon',\n 'Pison',\n 'Potiphar',\n 'Potipherah',\n 'Put',\n 'Raamah',\n 'Rachel',\n 'Rameses',\n 'Rebek',\n 'Rebekah',\n 'Rehoboth',\n 'Remain',\n 'Rephaims',\n 'Resen',\n 'Return',\n 'Reu',\n 'Reub',\n 'Reuben',\n 'Reuel',\n 'Reumah',\n 'Riphath',\n 'Rosh',\n 'Sabtah',\n 'Sabtech',\n 'Said',\n 'Salah',\n 'Salem',\n 'Samlah',\n 'Sarah',\n 'Sarai',\n 'Saul',\n 'Save',\n 'Say',\n 'Se',\n 'Seba',\n 'See',\n 'Seeing',\n 'Seir',\n 'Sell',\n 'Send',\n 'Sephar',\n 'Serah',\n 'Sered',\n 'Serug',\n 'Set',\n 'Seth',\n 'Shalem',\n 'Shall',\n 'Shalt',\n 'Shammah',\n 'Shaul',\n 'Shaveh',\n 'She',\n 'Sheba',\n 'Shebah',\n 'Shechem',\n 'Shed',\n 'Shel',\n 'Shelah',\n 'Sheleph',\n 'Shem',\n 'Shemeber',\n 'Shepho',\n 'Shillem',\n 'Shiloh',\n 'Shimron',\n 'Shinab',\n 'Shinar',\n 'Shobal',\n 'Should',\n 'Shuah',\n 'Shuni',\n 'Shur',\n 'Sichem',\n 'Siddim',\n 'Sidon',\n 'Simeon',\n 'Sinite',\n 'Sitnah',\n 'Slay',\n 'So',\n 'Sod',\n 'Sodom',\n 'Sojourn',\n 'Some',\n 'Spake',\n 'Speak',\n 'Spirit',\n 'Stand',\n 'Succoth',\n 'Surely',\n 'Swear',\n 'Syrian',\n 'Take',\n 'Tamar',\n 'Tarshish',\n 'Tebah',\n 'Tell',\n 'Tema',\n 'Teman',\n 'Temani',\n 'Terah',\n 'Thahash',\n 'That',\n 'The',\n 'Then',\n 'There',\n 'Therefore',\n 'These',\n 'They',\n 'Thirty',\n 'This',\n 'Thorns',\n 'Thou',\n 'Thus',\n 'Thy',\n 'Tidal',\n 'Timna',\n 'Timnah',\n 'Timnath',\n 'Tiras',\n 'To',\n 'Togarmah',\n 'Tola',\n 'Tubal',\n 'Tubalcain',\n 'Twelve',\n 'Two',\n 'Unstable',\n 'Until',\n 'Unto',\n 'Up',\n 'Upon',\n 'Ur',\n 'Uz',\n 'Uzal',\n 'We',\n 'What',\n 'When',\n 'Whence',\n 'Where',\n 'Whereas',\n 'Wherefore',\n 'Which',\n 'While',\n 'Who',\n 'Whose',\n 'Whoso',\n 'Why',\n 'Wilt',\n 'With',\n 'Woman',\n 'Ye',\n 'Yea',\n 'Yet',\n 'Zaavan',\n 'Zaphnathpaaneah',\n 'Zar',\n 'Zarah',\n 'Zeboiim',\n 'Zeboim',\n 'Zebul',\n 'Zebulun',\n 'Zemarite',\n 'Zepho',\n 'Zerah',\n 'Zibeon',\n 'Zidon',\n 'Zillah',\n 'Zilpah',\n 'Zimran',\n 'Ziphion',\n 'Zo',\n 'Zoar',\n 'Zohar',\n 'Zuzims',\n 'a',\n 'abated',\n 'abide',\n 'able',\n 'abode',\n 'abomination',\n 'about',\n 'above',\n 'abroad',\n 'absent',\n 'abundantly',\n 'accept',\n 'accepted',\n 'according',\n 'acknowledged',\n 'activity',\n 'add',\n 'adder',\n 'afar',\n 'afflict',\n 'affliction',\n 'afraid',\n 'after',\n 'afterward',\n 'afterwards',\n 'aga',\n 'again',\n 'against',\n 'age',\n 'aileth',\n 'air',\n 'al',\n 'alive',\n 'all',\n 'almon',\n 'alo',\n 'alone',\n 'aloud',\n 'also',\n 'altar',\n 'altogether',\n 'always',\n 'am',\n 'among',\n 'amongst',\n 'an',\n 'and',\n 'angel',\n 'angels',\n 'anger',\n 'angry',\n 'anguish',\n 'anointedst',\n 'anoth',\n 'another',\n 'answer',\n 'answered',\n 'any',\n 'anything',\n 'appe',\n 'appear',\n 'appeared',\n 'appease',\n 'appoint',\n 'appointed',\n 'aprons',\n 'archer',\n 'archers',\n 'are',\n 'arise',\n 'ark',\n 'armed',\n 'arms',\n 'army',\n 'arose',\n 'arrayed',\n 'art',\n 'artificer',\n 'as',\n 'ascending',\n 'ash',\n 'ashamed',\n 'ask',\n 'asked',\n 'asketh',\n 'ass',\n 'assembly',\n 'asses',\n 'assigned',\n 'asswaged',\n 'at',\n 'attained',\n 'audience',\n 'avenged',\n 'aw',\n 'awaked',\n 'away',\n 'awoke',\n 'back',\n 'backward',\n 'bad',\n 'bade',\n 'badest',\n 'badne',\n 'bak',\n 'bake',\n 'bakemeats',\n 'baker',\n 'bakers',\n 'balm',\n 'bands',\n 'bank',\n 'bare',\n 'barr',\n 'barren',\n 'basket',\n 'baskets',\n 'battle',\n 'bdellium',\n 'be',\n 'bear',\n 'beari',\n 'bearing',\n 'beast',\n 'beasts',\n 'beautiful',\n 'became',\n 'because',\n 'become',\n 'bed',\n 'been',\n 'befall',\n 'befell',\n 'before',\n 'began',\n 'begat',\n 'beget',\n 'begettest',\n 'begin',\n 'beginning',\n 'begotten',\n 'beguiled',\n 'beheld',\n 'behind',\n 'behold',\n 'being',\n 'believed',\n 'belly',\n 'belong',\n 'beneath',\n 'bereaved',\n 'beside',\n 'besides',\n 'besought',\n 'best',\n 'betimes',\n 'better',\n 'between',\n 'betwixt',\n 'beyond',\n 'binding',\n 'bird',\n 'birds',\n 'birthday',\n 'birthright',\n 'biteth',\n 'bitter',\n 'blame',\n 'blameless',\n 'blasted',\n 'bless',\n 'blessed',\n 'blesseth',\n 'blessi',\n 'blessing',\n 'blessings',\n 'blindness',\n 'blood',\n 'blossoms',\n 'bodies',\n 'boldly',\n 'bondman',\n 'bondmen',\n 'bondwoman',\n 'bone',\n 'bones',\n 'book',\n 'booths',\n 'border',\n 'borders',\n 'born',\n 'bosom',\n 'both',\n 'bottle',\n 'bou',\n 'boug',\n 'bough',\n 'bought',\n 'bound',\n 'bow',\n 'bowed',\n 'bowels',\n 'bowing',\n 'boys',\n 'bracelets',\n 'branches',\n 'brass',\n 'bre',\n 'breach',\n 'bread',\n 'breadth',\n 'break',\n 'breaketh',\n 'breaking',\n 'breasts',\n 'breath',\n 'breathed',\n 'breed',\n 'brethren',\n 'brick',\n 'brimstone',\n 'bring',\n 'brink',\n 'broken',\n 'brook',\n 'broth',\n 'brother',\n 'brought',\n 'brown',\n 'bruise',\n 'budded',\n 'build',\n 'builded',\n 'built',\n 'bulls',\n 'bundle',\n 'bundles',\n 'burdens',\n 'buried',\n 'burn',\n 'burning',\n 'burnt',\n 'bury',\n 'buryingplace',\n 'business',\n 'but',\n 'butler',\n 'butlers',\n 'butlership',\n 'butter',\n 'buy',\n 'by',\n 'cakes',\n 'calf',\n 'call',\n 'called',\n 'came',\n 'camel',\n 'camels',\n 'camest',\n 'can',\n 'cannot',\n 'canst',\n 'captain',\n 'captive',\n 'captives',\n 'carcases',\n 'carried',\n 'carry',\n 'cast',\n 'castles',\n 'catt',\n 'cattle',\n 'caught',\n 'cause',\n 'caused',\n 'cave',\n 'cease',\n 'ceased',\n 'certain',\n 'certainly',\n 'chain',\n 'chamber',\n 'change',\n 'changed',\n 'changes',\n 'charge',\n 'charged',\n 'chariot',\n 'chariots',\n 'chesnut',\n 'chi',\n 'chief',\n 'child',\n 'childless',\n 'childr',\n 'children',\n 'chode',\n 'choice',\n 'chose',\n 'circumcis',\n 'circumcise',\n 'circumcised',\n 'citi',\n 'cities',\n 'city',\n 'clave',\n 'clean',\n 'clear',\n 'cleave',\n 'clo',\n 'closed',\n 'clothed',\n 'clothes',\n 'cloud',\n 'clusters',\n 'co',\n 'coat',\n 'coats',\n 'coffin',\n 'cold',\n ...]"
          },
          "metadata": {}
        }
      ],
      "execution_count": 51,
      "metadata": {},
      "id": "c2bbc533"
    },
    {
      "cell_type": "code",
      "source": [
        "print(len(set(text3)))\n",
        "print(len(text3))\n",
        "print(len(set(text3)) / len(text3) * 100)\n",
        "# what do you reveal comparing then number of tokens with the vocabulary number?"
      ],
      "outputs": [
        {
          "output_type": "stream",
          "name": "stdout",
          "text": [
            "2789\n",
            "44764\n",
            "6.230453042623537\n"
          ]
        }
      ],
      "execution_count": 52,
      "metadata": {},
      "id": "1cda67e5"
    },
    {
      "cell_type": "code",
      "source": [
        "# to compute the number of occurances of a specific word\n",
        "text3.count(\"I\")"
      ],
      "outputs": [
        {
          "output_type": "execute_result",
          "execution_count": 53,
          "data": {
            "text/plain": "484"
          },
          "metadata": {}
        }
      ],
      "execution_count": 53,
      "metadata": {},
      "id": "5e706fd0"
    },
    {
      "cell_type": "markdown",
      "source": [
        "# Let's think about Text\n",
        "\n",
        "A text is a sequence of words and character (tokens) separated by white spaces, new lines, ...\n",
        "We can simply represent any corpora as a sequence of tokens so in python it is simply a list. This is how nltk represents text corporas"
      ],
      "metadata": {},
      "id": "b3a7446d"
    },
    {
      "cell_type": "code",
      "source": [
        "sent1 = ['Call', 'me', 'Ishmael', '.']\n",
        "\n",
        "# to see the total number of tokens\n",
        "print(len(sent1))"
      ],
      "outputs": [
        {
          "output_type": "stream",
          "name": "stdout",
          "text": [
            "4\n"
          ]
        }
      ],
      "execution_count": 54,
      "metadata": {},
      "id": "c54d9eca"
    },
    {
      "cell_type": "code",
      "source": [
        "sent2"
      ],
      "outputs": [
        {
          "output_type": "execute_result",
          "execution_count": 56,
          "data": {
            "text/plain": "['The',\n 'family',\n 'of',\n 'Dashwood',\n 'had',\n 'long',\n 'been',\n 'settled',\n 'in',\n 'Sussex',\n '.']"
          },
          "metadata": {}
        }
      ],
      "execution_count": 56,
      "metadata": {},
      "id": "639a6a4d"
    },
    {
      "cell_type": "code",
      "source": [
        "sent3"
      ],
      "outputs": [
        {
          "output_type": "execute_result",
          "execution_count": 57,
          "data": {
            "text/plain": "['In',\n 'the',\n 'beginning',\n 'God',\n 'created',\n 'the',\n 'heaven',\n 'and',\n 'the',\n 'earth',\n '.']"
          },
          "metadata": {}
        }
      ],
      "execution_count": 57,
      "metadata": {},
      "id": "a0f68201"
    },
    {
      "cell_type": "code",
      "source": [
        "# to concatenate two sentences (lists)\n",
        "sent2 + sent3"
      ],
      "outputs": [
        {
          "output_type": "execute_result",
          "execution_count": 58,
          "data": {
            "text/plain": "['The',\n 'family',\n 'of',\n 'Dashwood',\n 'had',\n 'long',\n 'been',\n 'settled',\n 'in',\n 'Sussex',\n '.',\n 'In',\n 'the',\n 'beginning',\n 'God',\n 'created',\n 'the',\n 'heaven',\n 'and',\n 'the',\n 'earth',\n '.']"
          },
          "metadata": {}
        }
      ],
      "execution_count": 58,
      "metadata": {},
      "id": "84b77e0d"
    },
    {
      "cell_type": "code",
      "source": [
        "# to add new token to a sentence\n",
        "sent1.append('Some')\n",
        "sent1"
      ],
      "outputs": [
        {
          "output_type": "execute_result",
          "execution_count": 59,
          "data": {
            "text/plain": "['Call', 'me', 'Ishmael', '.', 'Some']"
          },
          "metadata": {}
        }
      ],
      "execution_count": 59,
      "metadata": {},
      "id": "6f762759"
    },
    {
      "cell_type": "code",
      "source": [
        "# to index a sentence (list) by index\n",
        "text4[173]"
      ],
      "outputs": [
        {
          "output_type": "execute_result",
          "execution_count": 60,
          "data": {
            "text/plain": "'awaken'"
          },
          "metadata": {}
        }
      ],
      "execution_count": 60,
      "metadata": {},
      "id": "abe45793"
    },
    {
      "cell_type": "code",
      "source": [
        "# to get the first index of a specific word\n",
        "text4.index('awaken')"
      ],
      "outputs": [
        {
          "output_type": "execute_result",
          "execution_count": 61,
          "data": {
            "text/plain": "173"
          },
          "metadata": {}
        }
      ],
      "execution_count": 61,
      "metadata": {},
      "id": "690511fd"
    },
    {
      "cell_type": "code",
      "source": [
        "# You can use list slicing to get a part of the text\n",
        "text5[16715:16735]"
      ],
      "outputs": [
        {
          "output_type": "execute_result",
          "execution_count": 62,
          "data": {
            "text/plain": "['U86',\n 'thats',\n 'why',\n 'something',\n 'like',\n 'gamefly',\n 'is',\n 'so',\n 'good',\n 'because',\n 'you',\n 'can',\n 'actually',\n 'play',\n 'a',\n 'full',\n 'game',\n 'without',\n 'buying',\n 'it']"
          },
          "metadata": {}
        }
      ],
      "execution_count": 62,
      "metadata": {},
      "id": "a00a1eea"
    },
    {
      "cell_type": "code",
      "source": [
        "# To calculate the word count of a corpora\n",
        "fdist1 = FreqDist(text1)\n",
        "print(type(fdist1))\n",
        "fdist1.most_common(10)"
      ],
      "outputs": [
        {
          "output_type": "stream",
          "name": "stdout",
          "text": [
            "<class 'nltk.probability.FreqDist'>\n"
          ]
        },
        {
          "output_type": "execute_result",
          "execution_count": 63,
          "data": {
            "text/plain": "[(',', 18713),\n ('the', 13721),\n ('.', 6862),\n ('of', 6536),\n ('and', 6024),\n ('a', 4569),\n ('to', 4542),\n (';', 4072),\n ('in', 3916),\n ('that', 2982)]"
          },
          "metadata": {}
        }
      ],
      "execution_count": 63,
      "metadata": {},
      "id": "ecabbace"
    },
    {
      "cell_type": "code",
      "source": [
        "fdist1['whale']"
      ],
      "outputs": [
        {
          "output_type": "execute_result",
          "execution_count": 64,
          "data": {
            "text/plain": "906"
          },
          "metadata": {}
        }
      ],
      "execution_count": 64,
      "metadata": {},
      "id": "34e79117"
    },
    {
      "cell_type": "code",
      "source": [
        "# To filter words based on the word length\n",
        "# let's get the words having more than 15 character\n",
        "long_words = [w for w in set(text1) if len(w) > 15]\n",
        "long_words"
      ],
      "outputs": [
        {
          "output_type": "execute_result",
          "execution_count": 65,
          "data": {
            "text/plain": "['superstitiousness',\n 'characteristically',\n 'uncomfortableness',\n 'circumnavigation',\n 'uninterpenetratingly',\n 'indispensableness',\n 'comprehensiveness',\n 'cannibalistically',\n 'preternaturalness',\n 'circumnavigating',\n 'Physiognomically',\n 'responsibilities',\n 'circumnavigations',\n 'undiscriminating',\n 'apprehensiveness',\n 'uncompromisedness',\n 'subterraneousness',\n 'physiognomically',\n 'simultaneousness',\n 'hermaphroditical',\n 'CIRCUMNAVIGATION',\n 'irresistibleness',\n 'indiscriminately',\n 'supernaturalness']"
          },
          "metadata": {}
        }
      ],
      "execution_count": 65,
      "metadata": {},
      "id": "f3599fbb"
    },
    {
      "cell_type": "code",
      "source": [
        "# what about filtering based on the word frequency in the corpora?\n",
        "fdist5 = FreqDist(text5)\n",
        "common_words = [w for w in set(text5) if fdist5[w] > 500]\n",
        "common_words"
      ],
      "outputs": [
        {
          "output_type": "execute_result",
          "execution_count": 66,
          "data": {
            "text/plain": "['i', 'hi', '?', 'you', 'to', 'JOIN', ',', 'I', '.', 'lol', 'a', 'the', 'PART']"
          },
          "metadata": {}
        }
      ],
      "execution_count": 66,
      "metadata": {},
      "id": "607a2448"
    },
    {
      "cell_type": "code",
      "source": [
        "# python built-in string comaprison operators\n",
        "\n",
        "# checks if string starts with sub-string\n",
        "print(\"omar\".startswith('o'))\n",
        "# checks if string ends with sub-string\n",
        "print(\"omar\".endswith('r'))\n",
        "# checks if string is sub-string of another\n",
        "print(\"ma\" in \"omar\")\n",
        "# checks if all characters in the string are lowercase\n",
        "print(\"omar\".islower())\n",
        "# checks if all characters in the string are uppercase\n",
        "print(\"OMAR\".isupper())\n",
        "# checks if all the characters in a string are alphabetic characters (a-z) only\n",
        "print(\"omar\".isalpha())\n",
        "# checks if all the characters are alphanumeric (a-z, 0-9) only\n",
        "print(\"omar1\".isalnum())\n",
        "# checks if all the characters are numeric (0-9) only\n",
        "print(\"123\".isdigit())\n",
        "# checks if the string is title-cased. (all words in a string begin with uppercase letters and the remaining characters are lowercase letters)\n",
        "print(\"Introduction To Python\".istitle())"
      ],
      "outputs": [
        {
          "output_type": "stream",
          "name": "stdout",
          "text": [
            "True\n",
            "True\n",
            "True\n",
            "True\n",
            "True\n",
            "True\n",
            "True\n",
            "True\n",
            "True\n"
          ]
        }
      ],
      "execution_count": 67,
      "metadata": {},
      "id": "811c9024"
    },
    {
      "cell_type": "code",
      "source": [],
      "outputs": [],
      "execution_count": null,
      "metadata": {},
      "id": "ff791e16"
    }
  ],
  "metadata": {
    "kernelspec": {
      "display_name": "Python 3 (ipykernel)",
      "language": "python",
      "name": "python3"
    },
    "language_info": {
      "codemirror_mode": {
        "name": "ipython",
        "version": 3
      },
      "file_extension": ".py",
      "mimetype": "text/x-python",
      "name": "python",
      "nbconvert_exporter": "python",
      "pygments_lexer": "ipython3",
      "version": "3.10.9"
    },
    "nteract": {
      "version": "0.28.0"
    }
  },
  "nbformat": 4,
  "nbformat_minor": 5
}